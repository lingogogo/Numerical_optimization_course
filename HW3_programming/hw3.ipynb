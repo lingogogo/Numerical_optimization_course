{
 "cells": [
  {
   "cell_type": "markdown",
   "id": "894384f9",
   "metadata": {},
   "source": [
    "# Numerical Optimization (CS215300) Assignment 3\n",
    "## Introduction\n",
    "In this assignment, we expect you to be able to solve constrained optimization problem by Scipy library. We want you to apply two algorithms on the following problem as a benchmark, survey the methods used in these libraries, and analyze the behavior of these algorithms.\n",
    "The library document link: https://docs.scipy.org/doc/scipy/reference/generated/scipy.optimize.minimize.html\n",
    "\n",
    "## Task\n",
    "1. (20%) Solve the following problrem by using **trust-constr** method:\n",
    "$$\\begin{array}{lll}\n",
    "        \\min_{x_1,x_2} & f(x_1,x_2)=-x_1-x_2 \\\\\n",
    "        \\mbox{s.t. } & -2x_1^4 + 8x_1^3 -8x_1^2 + x_2 - 2 \\le 0  \\\\\n",
    "         & -4x_1^4 + 32x_1^3 - 88x_1^2 + 96x_1 + x_2 -36 \\le 0   \\\\\n",
    "         & 0 \\le x_1 \\le 3 \\\\\n",
    "         & 0 \\le x_2 \\le 4 \\\\\n",
    "\\end{array}$$\n",
    "2. (20%) Use **COBYLA** method to solve the same problem.\n",
    "3. (15%) For the above two algorithms, please include the calculation process in markdown style before your code cells.\n",
    "4. (5%) Provide the Jacobian and Hessian function in matrix form in markdown style.\n",
    "5. (40%) In your report, please read the paper cited in the libraries, which gives the details of the algorithms. Write an introduction of the algorithms, and compare their behaviors in this benchmark. You are not necessarily to read the original paper, other resourses (ex. slides from other schools or surveys) are also acceptable. Please include the link or paper name in your reference if you referred to other resources.\n",
    "6. Rename this notebook file by adding your student ID and upload it to eeclass platform. (ex. hw3_110xxxxxx.ipynb)"
   ]
  },
  {
   "cell_type": "code",
   "execution_count": null,
   "id": "76c364c0",
   "metadata": {},
   "outputs": [],
   "source": [
    "%matplotlib inline\n",
    "import matplotlib.pyplot as plt\n",
    "import numpy as np"
   ]
  },
  {
   "cell_type": "code",
   "execution_count": null,
   "id": "ea454f92",
   "metadata": {},
   "outputs": [],
   "source": [
    "from scipy.optimize import Bounds\n",
    "from scipy.optimize import NonlinearConstraint"
   ]
  },
  {
   "cell_type": "markdown",
   "id": "21f49385",
   "metadata": {},
   "source": [
    "### Define objective function"
   ]
  },
  {
   "cell_type": "code",
   "execution_count": null,
   "id": "908e2508",
   "metadata": {},
   "outputs": [],
   "source": [
    "def f(x):\n",
    "    # TODO\n",
    "    return ..."
   ]
  },
  {
   "cell_type": "markdown",
   "id": "a248684d",
   "metadata": {},
   "source": [
    "### Define constraint functions and derivatives\n",
    "Note: Please do not use sparse matrices."
   ]
  },
  {
   "cell_type": "code",
   "execution_count": null,
   "id": "193a8cdb",
   "metadata": {},
   "outputs": [],
   "source": [
    "# TODO: derive and define the functions\n",
    "def cons_f(x):\n",
    "    # TODO\n",
    "    return ...\n",
    "    \n",
    "def cons_Jacobian(x):\n",
    "    # TODO\n",
    "    return ...\n",
    "\n",
    "def cons_Hessian(x):\n",
    "    # TODO\n",
    "    return ...\n",
    "\n",
    "# TODO: Insert the functions above into a NonlinearConstraint obeject\n",
    "nonlinear_constraint = NonlinearConstraint(...)"
   ]
  },
  {
   "cell_type": "markdown",
   "id": "057a3b50",
   "metadata": {},
   "source": [
    "### Define the bounds "
   ]
  },
  {
   "cell_type": "code",
   "execution_count": null,
   "id": "2c0b7092",
   "metadata": {},
   "outputs": [],
   "source": [
    "# TODO: define the bounds\n",
    "bounds = ..."
   ]
  },
  {
   "cell_type": "markdown",
   "id": "a03b1a98",
   "metadata": {},
   "source": [
    "### Call the minimize library"
   ]
  },
  {
   "cell_type": "code",
   "execution_count": null,
   "id": "9439bc43",
   "metadata": {},
   "outputs": [],
   "source": [
    "# TODO: define initial point\n",
    "x0 = ...\n",
    "\n",
    "res = minimize(f, x0, method='trust-constr', constraints=[nonlinear_constraint], bounds=bounds)"
   ]
  },
  {
   "cell_type": "markdown",
   "id": "e96a8225",
   "metadata": {},
   "source": [
    "### Print out the result you get"
   ]
  },
  {
   "cell_type": "code",
   "execution_count": null,
   "id": "b38ec278",
   "metadata": {},
   "outputs": [],
   "source": [
    "print(res.x) "
   ]
  },
  {
   "cell_type": "markdown",
   "id": "62bd5cee",
   "metadata": {},
   "source": [
    "### Apply COBYLA method"
   ]
  },
  {
   "cell_type": "code",
   "execution_count": null,
   "id": "82b7e7f0",
   "metadata": {},
   "outputs": [],
   "source": [
    "# TODO\n",
    "res = minimize(...)\n",
    "print(res.x)"
   ]
  },
  {
   "cell_type": "markdown",
   "id": "a07591de",
   "metadata": {},
   "source": [
    "## Report"
   ]
  },
  {
   "cell_type": "markdown",
   "id": "b0c1a08a",
   "metadata": {},
   "source": [
    "Type your report here. 中英文皆可"
   ]
  },
  {
   "cell_type": "code",
   "execution_count": null,
   "id": "0cf424f7",
   "metadata": {},
   "outputs": [],
   "source": []
  }
 ],
 "metadata": {
  "kernelspec": {
   "display_name": "Python 3",
   "language": "python",
   "name": "python3"
  },
  "language_info": {
   "codemirror_mode": {
    "name": "ipython",
    "version": 3
   },
   "file_extension": ".py",
   "mimetype": "text/x-python",
   "name": "python",
   "nbconvert_exporter": "python",
   "pygments_lexer": "ipython3",
   "version": "3.7.11"
  }
 },
 "nbformat": 4,
 "nbformat_minor": 5
}
